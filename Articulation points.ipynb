{
  "nbformat": 4,
  "nbformat_minor": 0,
  "metadata": {
    "colab": {
      "provenance": [],
      "authorship_tag": "ABX9TyNVhJma9+NChf1UiNaUom14",
      "include_colab_link": true
    },
    "kernelspec": {
      "name": "python3",
      "display_name": "Python 3"
    },
    "language_info": {
      "name": "python"
    }
  },
  "cells": [
    {
      "cell_type": "markdown",
      "metadata": {
        "id": "view-in-github",
        "colab_type": "text"
      },
      "source": [
        "<a href=\"https://colab.research.google.com/github/19PA1A0484/Articulation-Points/blob/main/Articulation%20points.ipynb\" target=\"_parent\"><img src=\"https://colab.research.google.com/assets/colab-badge.svg\" alt=\"Open In Colab\"/></a>"
      ]
    },
    {
      "cell_type": "code",
      "execution_count": null,
      "metadata": {
        "id": "nI20LcJWCO83"
      },
      "outputs": [],
      "source": [
        "from collections import defaultdict"
      ]
    },
    {
      "cell_type": "code",
      "source": [
        "from collections import defaultdict\n",
        "\n",
        "# This class represents an undirected graph\n",
        "# using adjacency list representation\n",
        "class Graph:\n",
        "\n",
        "\tdef __init__(self, vertices):\n",
        "\t\tself.V = vertices # No. of vertices\n",
        "\t\tself.graph = defaultdict(list) # default dictionary to store graph\n",
        "\t\tself.Time = 0\n",
        "\n",
        "\t# function to add an edge to graph\n",
        "\tdef addEdge(self, u, v):\n",
        "\t\tself.graph[u].append(v)\n",
        "\t\tself.graph[v].append(u)\n",
        "\n",
        "\tdef APUtil(self, u, visited, ap, parent, low, disc):\n",
        "\n",
        "\t\t# Count of children in current node\n",
        "\t\tchildren = 0\n",
        "\n",
        "\t\t# Mark the current node as visited and print it\n",
        "\t\tvisited[u]= True\n",
        "\n",
        "\t\t# Initialize discovery time and low value\n",
        "\t\tdisc[u] = self.Time\n",
        "\t\tlow[u] = self.Time\n",
        "\t\tself.Time += 1\n",
        "\n",
        "\t\t# Recur for all the vertices adjacent to this vertex\n",
        "\t\tfor v in self.graph[u]:\n",
        "\t\t\t# If v is not visited yet, then make it a child of u\n",
        "\t\t\t# in DFS tree and recur for it\n",
        "\t\t\tif visited[v] == False :\n",
        "\t\t\t\tparent[v] = u\n",
        "\t\t\t\tchildren += 1\n",
        "\t\t\t\tself.APUtil(v, visited, ap, parent, low, disc)\n",
        "\n",
        "\t\t\t\t# Check if the subtree rooted with v has a connection to\n",
        "\t\t\t\t# one of the ancestors of u\n",
        "\t\t\t\tlow[u] = min(low[u], low[v])\n",
        "\n",
        "\t\t\t\t# u is an articulation point in following cases\n",
        "\t\t\t\t# (1) u is root of DFS tree and has two or more children.\n",
        "\t\t\t\tif parent[u] == -1 and children > 1:\n",
        "\t\t\t\t\tap[u] = True\n",
        "\n",
        "\t\t\t\t#(2) If u is not root and low value of one of its child is more\n",
        "\t\t\t\t# than discovery value of u.\n",
        "\t\t\t\tif parent[u] != -1 and low[v] >= disc[u]:\n",
        "\t\t\t\t\tap[u] = True\n",
        "\t\t\t\t\t\n",
        "\t\t\t\t# Update low value of u for parent function calls\n",
        "\t\t\telif v != parent[u]:\n",
        "\t\t\t\tlow[u] = min(low[u], disc[v])\n",
        "\n",
        "\n",
        "\t# The function to do DFS traversal. It uses recursive APUtil()\n",
        "\tdef AP(self):\n",
        "\n",
        "\t\t# Mark all the vertices as not visited\n",
        "\t\t# and Initialize parent and visited,\n",
        "\t\t# and ap(articulation point) arrays\n",
        "\t\tvisited = [False] * (self.V)\n",
        "\t\tdisc = [float(\"Inf\")] * (self.V)\n",
        "\t\tlow = [float(\"Inf\")] * (self.V)\n",
        "\t\tparent = [-1] * (self.V)\n",
        "\t\tap = [False] * (self.V) # To store articulation points\n",
        "\n",
        "\t\t# Call the recursive helper function\n",
        "\t\t# to find articulation points\n",
        "\t\t# in DFS tree rooted with vertex 'i'\n",
        "\t\tfor i in range(self.V):\n",
        "\t\t\tif visited[i] == False:\n",
        "\t\t\t\tself.APUtil(i, visited, ap, parent, low, disc)\n",
        "\n",
        "\t\tfor index, value in enumerate (ap):\n",
        "\t\t\tif value == True: print (index,end=\" \")\n",
        "\n",
        "# To get line Count\n",
        "def _count_generator(reader):\n",
        "    b = reader(1024 * 1024)\n",
        "    while b:\n",
        "        yield b\n",
        "        b = reader(1024 * 1024)\n",
        "\n",
        "with open(r'./Data.txt', 'rb') as fp:\n",
        "    c_generator = _count_generator(fp.raw.read)\n",
        "    edges = sum(buffer.count(b'\\n') for buffer in c_generator)\n",
        "\n",
        "# Create a graph given in the above diagram\n",
        "g = Graph(edges)\n",
        "\n",
        "with open('./Data.txt') as f:\n",
        "    lines = f.readlines()\n",
        "\n",
        "for line in lines:\n",
        "\tline = line.split(\"\t\")\n",
        "\t# print(line[0], \" \", line[1])\n",
        "\tg.addEdge(int(line[0]), int(line[1]))\n",
        "\n",
        "print (\"\\nArticulation points:\\n\")\n",
        "g.AP()\n",
        "print(\"\")"
      ],
      "metadata": {
        "colab": {
          "base_uri": "https://localhost:8080/"
        },
        "id": "UifbbFUWCllY",
        "outputId": "ad92ea87-e484-4f00-a809-ac63f0724200"
      },
      "execution_count": null,
      "outputs": [
        {
          "output_type": "stream",
          "name": "stdout",
          "text": [
            "\n",
            "Articulation points:\n",
            "\n",
            "2 3 5 8 \n"
          ]
        }
      ]
    },
    {
      "cell_type": "code",
      "source": [],
      "metadata": {
        "id": "0ti-GHy0FI1l"
      },
      "execution_count": null,
      "outputs": []
    }
  ]
}